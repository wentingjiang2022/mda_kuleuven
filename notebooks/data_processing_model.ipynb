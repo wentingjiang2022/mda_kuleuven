{
 "cells": [
  {
   "cell_type": "code",
   "execution_count": 1,
   "id": "6515064f",
   "metadata": {},
   "outputs": [
    {
     "name": "stderr",
     "output_type": "stream",
     "text": [
      "Using `tqdm.autonotebook.tqdm` in notebook mode. Use `tqdm.tqdm` instead to force console mode (e.g. in jupyter console)\n"
     ]
    }
   ],
   "source": [
    "import pandas as pd\n",
    "import matplotlib.pyplot as plt\n",
    "import numpy as np\n",
    "from sklearn.metrics import mean_squared_error, mean_absolute_error, r2_score\n",
    "from sklearn.ensemble import RandomForestRegressor\n",
    "from sklearn.model_selection import train_test_split, GridSearchCV\n",
    "import shap\n",
    "import seaborn as sns\n",
    "import plotly.express as px\n",
    "from sklearn.base import BaseEstimator, TransformerMixin\n",
    "from sklearn.preprocessing import FunctionTransformer\n",
    "from sklearn.pipeline import Pipeline\n",
    "import calendar\n",
    "import requests\n",
    "from sklearn.compose import ColumnTransformer\n",
    "import json\n",
    "import joblib"
   ]
  },
  {
   "cell_type": "code",
   "execution_count": 2,
   "id": "d583ef2c",
   "metadata": {},
   "outputs": [],
   "source": [
    "from utils.weather_utils import query_temperatures, count_temperatures_above_threshold, create_country_coordinates_dict, create_dates"
   ]
  },
  {
   "cell_type": "code",
   "execution_count": 3,
   "id": "773149f0",
   "metadata": {},
   "outputs": [
    {
     "data": {
      "text/html": [
       "<div>\n",
       "<style scoped>\n",
       "    .dataframe tbody tr th:only-of-type {\n",
       "        vertical-align: middle;\n",
       "    }\n",
       "\n",
       "    .dataframe tbody tr th {\n",
       "        vertical-align: top;\n",
       "    }\n",
       "\n",
       "    .dataframe thead th {\n",
       "        text-align: right;\n",
       "    }\n",
       "</style>\n",
       "<table border=\"1\" class=\"dataframe\">\n",
       "  <thead>\n",
       "    <tr style=\"text-align: right;\">\n",
       "      <th></th>\n",
       "      <th>Unnamed: 0</th>\n",
       "      <th>Dis No</th>\n",
       "      <th>Year</th>\n",
       "      <th>Seq</th>\n",
       "      <th>Glide</th>\n",
       "      <th>Disaster Group</th>\n",
       "      <th>Disaster Subgroup</th>\n",
       "      <th>Disaster Type</th>\n",
       "      <th>Disaster Subtype</th>\n",
       "      <th>Disaster Subsubtype</th>\n",
       "      <th>...</th>\n",
       "      <th>Reconstruction Costs, Adjusted ('000 US$)</th>\n",
       "      <th>Insured Damages ('000 US$)</th>\n",
       "      <th>Insured Damages, Adjusted ('000 US$)</th>\n",
       "      <th>Total Damages ('000 US$)</th>\n",
       "      <th>Total Damages, Adjusted ('000 US$)</th>\n",
       "      <th>CPI</th>\n",
       "      <th>Adm Level</th>\n",
       "      <th>Admin1 Code</th>\n",
       "      <th>Admin2 Code</th>\n",
       "      <th>Geo Locations</th>\n",
       "    </tr>\n",
       "  </thead>\n",
       "  <tbody>\n",
       "    <tr>\n",
       "      <th>0</th>\n",
       "      <td>192</td>\n",
       "      <td>1985-0257-GRC</td>\n",
       "      <td>1985</td>\n",
       "      <td>257</td>\n",
       "      <td>NaN</td>\n",
       "      <td>Natural</td>\n",
       "      <td>Meteorological</td>\n",
       "      <td>Extreme temperature</td>\n",
       "      <td>Heat wave</td>\n",
       "      <td>NaN</td>\n",
       "      <td>...</td>\n",
       "      <td>NaN</td>\n",
       "      <td>NaN</td>\n",
       "      <td>NaN</td>\n",
       "      <td>NaN</td>\n",
       "      <td>NaN</td>\n",
       "      <td>36.755468</td>\n",
       "      <td>NaN</td>\n",
       "      <td>NaN</td>\n",
       "      <td>NaN</td>\n",
       "      <td>NaN</td>\n",
       "    </tr>\n",
       "    <tr>\n",
       "      <th>1</th>\n",
       "      <td>209</td>\n",
       "      <td>1987-0596-GRC</td>\n",
       "      <td>1987</td>\n",
       "      <td>596</td>\n",
       "      <td>NaN</td>\n",
       "      <td>Natural</td>\n",
       "      <td>Meteorological</td>\n",
       "      <td>Extreme temperature</td>\n",
       "      <td>Heat wave</td>\n",
       "      <td>NaN</td>\n",
       "      <td>...</td>\n",
       "      <td>NaN</td>\n",
       "      <td>NaN</td>\n",
       "      <td>NaN</td>\n",
       "      <td>NaN</td>\n",
       "      <td>NaN</td>\n",
       "      <td>38.825601</td>\n",
       "      <td>NaN</td>\n",
       "      <td>NaN</td>\n",
       "      <td>NaN</td>\n",
       "      <td>NaN</td>\n",
       "    </tr>\n",
       "    <tr>\n",
       "      <th>2</th>\n",
       "      <td>217</td>\n",
       "      <td>1988-0298-GRC</td>\n",
       "      <td>1988</td>\n",
       "      <td>298</td>\n",
       "      <td>NaN</td>\n",
       "      <td>Natural</td>\n",
       "      <td>Meteorological</td>\n",
       "      <td>Extreme temperature</td>\n",
       "      <td>Heat wave</td>\n",
       "      <td>NaN</td>\n",
       "      <td>...</td>\n",
       "      <td>NaN</td>\n",
       "      <td>NaN</td>\n",
       "      <td>NaN</td>\n",
       "      <td>NaN</td>\n",
       "      <td>NaN</td>\n",
       "      <td>40.408806</td>\n",
       "      <td>NaN</td>\n",
       "      <td>NaN</td>\n",
       "      <td>NaN</td>\n",
       "      <td>NaN</td>\n",
       "    </tr>\n",
       "    <tr>\n",
       "      <th>3</th>\n",
       "      <td>371</td>\n",
       "      <td>1990-0085-FRA</td>\n",
       "      <td>1990</td>\n",
       "      <td>85</td>\n",
       "      <td>NaN</td>\n",
       "      <td>Natural</td>\n",
       "      <td>Meteorological</td>\n",
       "      <td>Extreme temperature</td>\n",
       "      <td>Heat wave</td>\n",
       "      <td>NaN</td>\n",
       "      <td>...</td>\n",
       "      <td>NaN</td>\n",
       "      <td>NaN</td>\n",
       "      <td>NaN</td>\n",
       "      <td>NaN</td>\n",
       "      <td>NaN</td>\n",
       "      <td>44.645877</td>\n",
       "      <td>NaN</td>\n",
       "      <td>NaN</td>\n",
       "      <td>NaN</td>\n",
       "      <td>NaN</td>\n",
       "    </tr>\n",
       "    <tr>\n",
       "      <th>4</th>\n",
       "      <td>543</td>\n",
       "      <td>1995-0157-ESP</td>\n",
       "      <td>1995</td>\n",
       "      <td>157</td>\n",
       "      <td>NaN</td>\n",
       "      <td>Natural</td>\n",
       "      <td>Meteorological</td>\n",
       "      <td>Extreme temperature</td>\n",
       "      <td>Heat wave</td>\n",
       "      <td>NaN</td>\n",
       "      <td>...</td>\n",
       "      <td>NaN</td>\n",
       "      <td>NaN</td>\n",
       "      <td>NaN</td>\n",
       "      <td>NaN</td>\n",
       "      <td>NaN</td>\n",
       "      <td>52.069299</td>\n",
       "      <td>NaN</td>\n",
       "      <td>NaN</td>\n",
       "      <td>NaN</td>\n",
       "      <td>NaN</td>\n",
       "    </tr>\n",
       "  </tbody>\n",
       "</table>\n",
       "<p>5 rows × 51 columns</p>\n",
       "</div>"
      ],
      "text/plain": [
       "   Unnamed: 0         Dis No  Year  Seq Glide Disaster Group  \\\n",
       "0         192  1985-0257-GRC  1985  257   NaN        Natural   \n",
       "1         209  1987-0596-GRC  1987  596   NaN        Natural   \n",
       "2         217  1988-0298-GRC  1988  298   NaN        Natural   \n",
       "3         371  1990-0085-FRA  1990   85   NaN        Natural   \n",
       "4         543  1995-0157-ESP  1995  157   NaN        Natural   \n",
       "\n",
       "  Disaster Subgroup         Disaster Type Disaster Subtype  \\\n",
       "0    Meteorological  Extreme temperature         Heat wave   \n",
       "1    Meteorological  Extreme temperature         Heat wave   \n",
       "2    Meteorological  Extreme temperature         Heat wave   \n",
       "3    Meteorological  Extreme temperature         Heat wave   \n",
       "4    Meteorological  Extreme temperature         Heat wave   \n",
       "\n",
       "   Disaster Subsubtype  ...  Reconstruction Costs, Adjusted ('000 US$)  \\\n",
       "0                  NaN  ...                                        NaN   \n",
       "1                  NaN  ...                                        NaN   \n",
       "2                  NaN  ...                                        NaN   \n",
       "3                  NaN  ...                                        NaN   \n",
       "4                  NaN  ...                                        NaN   \n",
       "\n",
       "  Insured Damages ('000 US$) Insured Damages, Adjusted ('000 US$)  \\\n",
       "0                        NaN                                  NaN   \n",
       "1                        NaN                                  NaN   \n",
       "2                        NaN                                  NaN   \n",
       "3                        NaN                                  NaN   \n",
       "4                        NaN                                  NaN   \n",
       "\n",
       "  Total Damages ('000 US$) Total Damages, Adjusted ('000 US$)        CPI  \\\n",
       "0                      NaN                                NaN  36.755468   \n",
       "1                      NaN                                NaN  38.825601   \n",
       "2                      NaN                                NaN  40.408806   \n",
       "3                      NaN                                NaN  44.645877   \n",
       "4                      NaN                                NaN  52.069299   \n",
       "\n",
       "   Adm Level Admin1 Code Admin2 Code  Geo Locations  \n",
       "0        NaN         NaN         NaN            NaN  \n",
       "1        NaN         NaN         NaN            NaN  \n",
       "2        NaN         NaN         NaN            NaN  \n",
       "3        NaN         NaN         NaN            NaN  \n",
       "4        NaN         NaN         NaN            NaN  \n",
       "\n",
       "[5 rows x 51 columns]"
      ]
     },
     "execution_count": 3,
     "metadata": {},
     "output_type": "execute_result"
    }
   ],
   "source": [
    "directory = '../data/raw/'\n",
    "image_folder = '../images/'\n",
    "top_countries_valid_death = pd.read_csv('../dash_app/country_focus.csv')\n",
    "top_countries_valid_death.head()"
   ]
  },
  {
   "cell_type": "markdown",
   "id": "28e3860d",
   "metadata": {},
   "source": [
    "\n",
    "# Process data and add Eurostat features"
   ]
  },
  {
   "cell_type": "code",
   "execution_count": 4,
   "id": "eee00a9e",
   "metadata": {
    "scrolled": true
   },
   "outputs": [],
   "source": [
    "class EurostatFeatureExtractor(BaseEstimator, TransformerMixin):\n",
    "    def __init__(self, files, two_to_three_iso):\n",
    "        self.files = files\n",
    "        self.two_to_three_iso = two_to_three_iso\n",
    "\n",
    "    def fit(self, X, y=None):\n",
    "        return self\n",
    "\n",
    "    def transform(self, X):\n",
    "        new_features = X[['ISO']].copy()\n",
    "\n",
    "        for file in self.files:\n",
    "            df_health = pd.read_csv(directory + file + '.csv')\n",
    "            \n",
    "            if file == 'disabled':\n",
    "                df_health = df_health[df_health['assist'] == 'TOTAL']\n",
    "\n",
    "            df_health['geo'] = df_health['geo'].map(self.two_to_three_iso)\n",
    "            df_health_2022 = df_health[df_health['TIME_PERIOD'] == df_health['TIME_PERIOD'].max()]\n",
    "            df_filtered = df_health_2022[['geo', 'OBS_VALUE']]\n",
    "            df_filtered.columns = ['ISO', file]\n",
    "            new_features = pd.merge(new_features, df_filtered, how='left', on='ISO')\n",
    "        \n",
    "        new_features = new_features.drop_duplicates(keep='first')\n",
    "        return pd.merge(X, new_features, how='left', on='ISO')\n",
    "\n",
    "class NonConstantColumnSelector(BaseEstimator, TransformerMixin):\n",
    "    def fit(self, X, y=None):\n",
    "        return self\n",
    "\n",
    "    def transform(self, X):\n",
    "        result = []\n",
    "        for column in X.columns:\n",
    "            unique_values = X[column].nunique()\n",
    "\n",
    "            if unique_values > 1:\n",
    "                result.append(column)\n",
    "        \n",
    "        return X[result]\n",
    "\n",
    "class RemoveColumnsWithAllNA(BaseEstimator, TransformerMixin):\n",
    "    def fit(self, X, y=None):\n",
    "        self.columns_to_keep = X.columns[X.notna().any()]\n",
    "        return self\n",
    "    def transform(self, X):\n",
    "        return X[self.columns_to_keep]\n",
    "\n",
    "class CalculateDuration(BaseEstimator, TransformerMixin):\n",
    "    def fit(self, X, y=None):\n",
    "        return self\n",
    "    def transform(self, X):\n",
    "        X_copy = X.copy()\n",
    "\n",
    "        mask = X_copy['Start Day'].notna() & X_copy['End Day'].notna()\n",
    "\n",
    "        X_copy['Start Date'] = pd.to_datetime(dict(year=X_copy['Start Year'], month=X_copy['Start Month'], day=X_copy['Start Day']))\n",
    "        X_copy['End Date'] = pd.to_datetime(dict(year=X_copy['End Year'], month=X_copy['End Month'], day=X_copy['End Day']))\n",
    "        X_copy['Duration'] = X_copy['End Date'] - X_copy['Start Date']      \n",
    "        X_copy['Duration'] = X_copy['Duration'].apply(lambda x: x.days if not pd.isnull(x) else np.nan)\n",
    "\n",
    "        return X_copy\n",
    "\n",
    "remove_na_cpi = FunctionTransformer(lambda df: df.dropna(subset=['CPI']), validate=False)"
   ]
  },
  {
   "cell_type": "code",
   "execution_count": 5,
   "id": "807c1602-85a6-4f7e-8b2d-f3dc7b7fd67b",
   "metadata": {},
   "outputs": [],
   "source": [
    "eurostats_features = ['poverty', 'housing_deprive', 'forest', 'elder', 'population', 'gdp',\n",
    "         'unemployment', 'child_population', 'disabled']\n",
    "\n",
    "file_path = directory +\"two_to_three_iso.json\"\n",
    "with open(file_path, 'r') as json_file:\n",
    "    two_to_three_iso = json.load(json_file)\n",
    "\n",
    "file_path = directory +\"country_capitals.json\"\n",
    "with open(file_path, 'r') as json_file:\n",
    "    capitals = json.load(json_file)"
   ]
  },
  {
   "cell_type": "code",
   "execution_count": 6,
   "id": "ddb0b8a7-31ee-4678-87ec-67cd091e6fa4",
   "metadata": {},
   "outputs": [],
   "source": [
    "def harmonize_iso(two_to_three_iso):\n",
    "    new_key = 'GR'\n",
    "    value = two_to_three_iso['EL']    \n",
    "    two_to_three_iso[new_key] = value    \n",
    "    del two_to_three_iso['EL']\n",
    "\n",
    "    return two_to_three_iso"
   ]
  },
  {
   "cell_type": "code",
   "execution_count": 7,
   "id": "640d1295-4283-4f93-a9bf-1615b9733f81",
   "metadata": {},
   "outputs": [],
   "source": [
    "#    #two_to_three_iso['RU'] = 'RUS'   "
   ]
  },
  {
   "cell_type": "code",
   "execution_count": 8,
   "id": "1445f6d6-66f2-4660-a6fb-5f407adc3dca",
   "metadata": {},
   "outputs": [],
   "source": [
    "two_to_three_iso = harmonize_iso(two_to_three_iso)"
   ]
  },
  {
   "cell_type": "code",
   "execution_count": 9,
   "id": "bacc288a-f9d6-4a06-9275-5f9d8123fbc3",
   "metadata": {
    "scrolled": true
   },
   "outputs": [],
   "source": [
    "pipeline_one = Pipeline(steps=[\n",
    "    ('remove_na_cpi', remove_na_cpi),\n",
    "    ('remove_na_col', RemoveColumnsWithAllNA()),\n",
    "    ('calculate_duration', CalculateDuration()),\n",
    "    ('non_constant_col_selector', NonConstantColumnSelector()),\n",
    "    ('eurostat_features', EurostatFeatureExtractor(files=eurostats_features, two_to_three_iso=two_to_three_iso))\n",
    "])\n",
    "\n",
    "transformed_df = pipeline_one.fit_transform(top_countries_valid_death)"
   ]
  },
  {
   "cell_type": "code",
   "execution_count": 10,
   "id": "5f1c1164-fffc-4d8c-9177-538f19a56eca",
   "metadata": {},
   "outputs": [],
   "source": [
    "class AddWeatherFeatures(BaseEstimator, TransformerMixin):\n",
    "    def __init__(self, capitals, two_to_three_iso, threshold, relevant_iso):\n",
    "        self.capitals = capitals\n",
    "        self.two_to_three_iso = two_to_three_iso\n",
    "        self.relevant_iso = relevant_iso\n",
    "        self.threshold = threshold\n",
    "\n",
    "    def fit(self, X, y=None):\n",
    "        self.country_coordinates_dict = create_country_coordinates_dict(self.capitals, self.two_to_three_iso, self.relevant_iso)\n",
    "        return self\n",
    "\n",
    "    def transform(self, X):\n",
    "        dfs = X.copy()\n",
    "        dfs['Start_Date'], dfs['End_Date'] = zip(*dfs.apply(create_dates, axis=1))\n",
    "        \n",
    "        for index, row in dfs.iterrows():\n",
    "            start_date = row['Start_Date']\n",
    "            end_date = row['End_Date']\n",
    "\n",
    "            code = row['ISO']\n",
    "            if code in self.country_coordinates_dict:\n",
    "                lat = self.country_coordinates_dict[code]['CapitalLatitude']\n",
    "                lon = self.country_coordinates_dict[code]['CapitalLongitude']\n",
    "\n",
    "                temperatures = query_temperatures(lat, lon, start_date, end_date)\n",
    "                above_threshold_count = count_temperatures_above_threshold(temperatures, self.threshold)\n",
    "                max_temperature = max(temperatures) if temperatures else None\n",
    "\n",
    "                dfs.loc[index, 'Days_over_30'] = above_threshold_count\n",
    "                dfs.loc[index, 'Max_temp'] = max_temperature\n",
    "\n",
    "            else:\n",
    "                print(f\"Data missing for ISO code: {code}\")\n",
    "        \n",
    "        return dfs\n",
    "\n",
    "class Remove_nan_rows(BaseEstimator, TransformerMixin):\n",
    "    def fit(self, X, y=None):\n",
    "        return self\n",
    "\n",
    "    def transform(self, X):\n",
    "        X = X[~X['Max_temp'].isna()]\n",
    "        X = X[~X['child_population'].isna()]\n",
    "        X = X[~X['disabled'].isna()]\n",
    "        return X\n",
    "\n",
    "class Create_percentage(BaseEstimator, TransformerMixin):\n",
    "    def fit(self, X, y=None):\n",
    "        return self\n",
    "\n",
    "    def transform(self, X):\n",
    "        X['child_population'] =X['child_population'] *100 /X['population'] \n",
    "        X['disabled'] =X['disabled'] * 100/X['population'] \n",
    "\n",
    "        return X"
   ]
  },
  {
   "cell_type": "code",
   "execution_count": 11,
   "id": "95b92a7a-0dd2-4006-8e15-d4cd9c3184c3",
   "metadata": {},
   "outputs": [
    {
     "name": "stderr",
     "output_type": "stream",
     "text": [
      "\n",
      "A value is trying to be set on a copy of a slice from a DataFrame.\n",
      "Try using .loc[row_indexer,col_indexer] = value instead\n",
      "\n",
      "See the caveats in the documentation: https://pandas.pydata.org/pandas-docs/stable/user_guide/indexing.html#returning-a-view-versus-a-copy\n"
     ]
    },
    {
     "name": "stdout",
     "output_type": "stream",
     "text": [
      "Data missing for ISO code: RUS\n",
      "Data missing for ISO code: RUS\n",
      "Data missing for ISO code: RUS\n"
     ]
    }
   ],
   "source": [
    "relevant_iso = list(transformed_df.ISO.unique())\n",
    "threshold = 30\n",
    "\n",
    "pipeline_two = Pipeline(steps=[\n",
    "    ('weather_features', AddWeatherFeatures(capitals =capitals, two_to_three_iso=two_to_three_iso, \n",
    "                                             threshold=threshold, relevant_iso=relevant_iso)),\n",
    "    ('remove_nan_rows', Remove_nan_rows()),\n",
    "    ('create_percentage', Create_percentage())\n",
    "])\n",
    "\n",
    "df_model = pipeline_two.fit_transform(transformed_df)"
   ]
  },
  {
   "cell_type": "markdown",
   "id": "2d978597",
   "metadata": {},
   "source": [
    "# Add weather"
   ]
  },
  {
   "cell_type": "markdown",
   "id": "5119eac2",
   "metadata": {},
   "source": [
    "# Modelling"
   ]
  },
  {
   "cell_type": "code",
   "execution_count": 12,
   "id": "6df81cbe",
   "metadata": {},
   "outputs": [],
   "source": [
    "#df_model.to_csv('../dash_app/df_model.csv')"
   ]
  },
  {
   "cell_type": "code",
   "execution_count": 13,
   "id": "60ca690b",
   "metadata": {
    "scrolled": true
   },
   "outputs": [],
   "source": [
    "features = ['Year', 'Country', 'Seq', \n",
    "  #  'Duration',\n",
    "           'Max_temp', \n",
    "          'Days_over_30', 'Start Month',\n",
    "            'Region', \n",
    "          #  'CPI',\n",
    "           ] + eurostats_features\n",
    "df = df_model[features]\n",
    "columns_to_encode = ['Region','Country']\n",
    "dummies = pd.get_dummies(df[columns_to_encode], columns=columns_to_encode, prefix=columns_to_encode)"
   ]
  },
  {
   "cell_type": "code",
   "execution_count": 14,
   "id": "279f2a1a-085c-48da-94bc-2e1d2e83e65a",
   "metadata": {},
   "outputs": [
    {
     "data": {
      "image/png": "[encoded data removed]",
      "text/plain": [
       "<Figure size 800x600 with 1 Axes>"
      ]
     },
     "metadata": {},
     "output_type": "display_data"
    }
   ],
   "source": [
    "data = df[['Country',  'Days_over_30']]\n",
    "plt.figure(figsize=(8, 6))  \n",
    "sns.boxplot(x='Country', y='Days_over_30', data=data)\n",
    "plt.title('Box Plot of Days over 30 by Country')\n",
    "plt.ylabel('Dayso over 30')\n",
    "plt.xticks(rotation=45)\n",
    "plt.savefig(image_folder + 'boxplot_days_over_30.png')  \n",
    "plt.show()"
   ]
  },
  {
   "cell_type": "code",
   "execution_count": 15,
   "id": "b568c600",
   "metadata": {},
   "outputs": [
    {
     "data": {
      "image/png": "[encoded data removed]",
      "text/plain": [
       "<Figure size 800x600 with 2 Axes>"
      ]
     },
     "metadata": {},
     "output_type": "display_data"
    }
   ],
   "source": [
    "correlation_matrix = df.drop(columns_to_encode, axis=1).corr()\n",
    "plt.figure(figsize=(8, 6))  \n",
    "sns.heatmap(correlation_matrix, annot=False, cmap='coolwarm', vmin=-1, vmax=1)\n",
    "plt.title('Correlation Matrix Heatmap')\n",
    "plt.savefig(image_folder + 'correlation_matrix.png')  \n",
    "plt.show()"
   ]
  },
  {
   "cell_type": "code",
   "execution_count": 16,
   "id": "4091cbec",
   "metadata": {
    "scrolled": false
   },
   "outputs": [
    {
     "name": "stdout",
     "output_type": "stream",
     "text": [
      "X_train shape: (39, 27)\n",
      "X_test shape: (10, 27)\n",
      "y_train shape: (39,)\n",
      "y_test shape: (10,)\n"
     ]
    }
   ],
   "source": [
    "X = pd.concat([df, dummies], axis=1).drop(columns_to_encode, axis=1)\n",
    "y = df_model['Total Deaths'] \n",
    "X_and_y = pd.concat([X, y], axis=1)\n",
    "#X_and_y.to_csv('../dash_app/model_ready.csv', index=None)\n",
    "\n",
    "X_train, X_test, y_train, y_test = train_test_split(X, y,\n",
    "                                                    test_size=0.2, random_state=42)\n",
    "\n",
    "print(\"X_train shape:\", X_train.shape)\n",
    "print(\"X_test shape:\", X_test.shape)\n",
    "print(\"y_train shape:\", y_train.shape)\n",
    "print(\"y_test shape:\", y_test.shape)"
   ]
  },
  {
   "cell_type": "code",
   "execution_count": null,
   "id": "001e1065-9c01-4ca7-a0b6-fc7f69468663",
   "metadata": {},
   "outputs": [],
   "source": [
    "rf_model = RandomForestRegressor()\n",
    "param_grid = {\n",
    "    'n_estimators': [100, 200, 400],\n",
    "    'max_depth': [None, 10, 20, 30],\n",
    "    'min_samples_split': [2, 5, 10],\n",
    "    'min_samples_leaf': [1, 2, 4]\n",
    "}\n",
    "\n",
    "grid_search = GridSearchCV(estimator=rf_model, param_grid=param_grid, cv=5, scoring='neg_mean_absolute_error')\n",
    "\n",
    "grid_search.fit(X_train, y_train)\n",
    "\n",
    "best_params = grid_search.best_params_\n",
    "print(\"Best Hyperparameters:\", best_params)\n",
    "\n",
    "best_rf_model = grid_search.best_estimator_"
   ]
  },
  {
   "cell_type": "code",
   "execution_count": null,
   "id": "8b865d10-e7a5-422f-9cbc-4b873ac0062a",
   "metadata": {},
   "outputs": [],
   "source": [
    "rf_model = best_rf_model\n",
    "y_pred = rf_model.predict(X_test)\n",
    "\n",
    "y_pred_train = rf_model.predict(X_train)\n",
    "\n",
    "mse = mean_squared_error(y_test, y_pred)\n",
    "rmse = mean_squared_error(y_test, y_pred, squared=False)\n",
    "mae = mean_absolute_error(y_test, y_pred)\n",
    "r2 = r2_score(y_test, y_pred)\n",
    "\n",
    "print(\"Mean Squared Error (MSE):\", mse)\n",
    "print(\"Root Mean Squared Error (RMSE):\", rmse)\n",
    "print(\"Mean Absolute Error (MAE):\", mae)\n",
    "print(\"R-squared (R2):\", r2)"
   ]
  },
  {
   "cell_type": "code",
   "execution_count": null,
   "id": "3701bc9b",
   "metadata": {},
   "outputs": [],
   "source": [
    "lim = max(list(y_pred_train) + list(y_pred_train) + list(y_test) + list(y_pred))\n",
    "plt.scatter(y_train, y_pred_train, alpha=0.5, label='Train')\n",
    "plt.scatter(y_test, y_pred, alpha=0.5, label='Test')\n",
    "plt.xlabel('Actual')\n",
    "plt.ylabel('Predicted')\n",
    "plt.xlim([0, lim])\n",
    "plt.ylim([0, lim])\n",
    "plt.legend()  \n",
    "plt.savefig(image_folder + 'predicted_actual.png')  \n",
    "\n",
    "plt.show()"
   ]
  },
  {
   "cell_type": "code",
   "execution_count": null,
   "id": "bfece8dc",
   "metadata": {
    "scrolled": true
   },
   "outputs": [],
   "source": [
    "importances = rf_model.feature_importances_\n",
    "\n",
    "feature_importances = pd.DataFrame({'Feature': X.columns, 'Importance': importances})\n",
    "\n",
    "feature_importances = feature_importances.sort_values('Importance', ascending=False)\n",
    "\n",
    "plt.figure(figsize=(8, 6))\n",
    "plt.barh(feature_importances['Feature'], feature_importances['Importance'])\n",
    "plt.xlabel('Feature')\n",
    "plt.ylabel('Importance')\n",
    "plt.title('Feature Importance')\n",
    "plt.xticks(rotation=45)\n",
    "\n",
    "plt.savefig(image_folder + 'feature_importance.png')  \n",
    "\n",
    "plt.show()"
   ]
  },
  {
   "cell_type": "code",
   "execution_count": null,
   "id": "d4effeba",
   "metadata": {},
   "outputs": [],
   "source": [
    "explainer = shap.Explainer(rf_model)\n",
    "shap_values = explainer.shap_values(X_test)\n",
    "\n",
    "shap.summary_plot(shap_values, X_test, feature_names=X.columns)\n",
    "plt.savefig(image_folder + 'shap_summary_plot.png')"
   ]
  },
  {
   "cell_type": "code",
   "execution_count": null,
   "id": "72031af2",
   "metadata": {},
   "outputs": [],
   "source": [
    "best_params"
   ]
  },
  {
   "cell_type": "code",
   "execution_count": null,
   "id": "910e3443",
   "metadata": {},
   "outputs": [],
   "source": [
    "best_model = RandomForestRegressor(n_estimators=best_params['n_estimators'],\n",
    "                                     max_depth=best_params['max_depth'],\n",
    "                                     min_samples_split=best_params['min_samples_split'],\n",
    "                                     min_samples_leaf=best_params['min_samples_leaf'],\n",
    "                                     random_state=42)\n",
    "best_rf_model.fit(X, y)"
   ]
  },
  {
   "cell_type": "code",
   "execution_count": null,
   "id": "a74d3193",
   "metadata": {
    "scrolled": true
   },
   "outputs": [],
   "source": [
    "#joblib.dump(rf_model, '../dash_app/random_forest_model.pkl')"
   ]
  },
  {
   "cell_type": "code",
   "execution_count": null,
   "id": "7751a572",
   "metadata": {},
   "outputs": [],
   "source": [
    "loaded_model = joblib.load('../dash_app/random_forest_model.pkl')"
   ]
  },
  {
   "cell_type": "code",
   "execution_count": null,
   "id": "d9c80ae8-20d4-4d2e-9c6d-2496f7ee11bd",
   "metadata": {},
   "outputs": [],
   "source": [
    "index = 5  \n",
    "observation = X.iloc[index]\n",
    "explainer = shap.Explainer(loaded_model)\n",
    "shap_values = explainer.shap_values(observation)\n",
    "feature_names = X.columns\n",
    "sorted_indices = np.argsort(np.abs(shap_values))\n",
    "sorted_feature_names = [feature_names[i] for i in sorted_indices]\n",
    "sorted_shap_values = [shap_values[i] for i in sorted_indices]\n",
    "\n",
    "colors = ['green' if shap_value < 0 else 'red' for shap_value in sorted_shap_values]\n",
    "plt.figure(figsize=(10, 6)) \n",
    "plt.barh(range(len(sorted_feature_names)), sorted_shap_values, align='center', color=colors)\n",
    "plt.yticks(range(len(sorted_feature_names)), sorted_feature_names)\n",
    "plt.xlabel('SHAP Value')\n",
    "plt.title('Feature Importance Based on SHAP Values')\n",
    "plt.savefig(image_folder + 'explain_one_obs.png')\n",
    "plt.show()"
   ]
  }
 ],
 "metadata": {
  "kernelspec": {
   "display_name": "venv",
   "language": "python",
   "name": "venv"
  },
  "language_info": {
   "codemirror_mode": {
    "name": "ipython",
    "version": 3
   },
   "file_extension": ".py",
   "mimetype": "text/x-python",
   "name": "python",
   "nbconvert_exporter": "python",
   "pygments_lexer": "ipython3",
   "version": "3.9.13"
  }
 },
 "nbformat": 4,
 "nbformat_minor": 5
}
