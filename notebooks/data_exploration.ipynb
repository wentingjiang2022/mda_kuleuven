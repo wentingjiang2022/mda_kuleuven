{
 "cells": [
  {
   "cell_type": "code",
   "execution_count": 1,
   "id": "538e4571",
   "metadata": {},
   "outputs": [],
   "source": [
    "#pip install seaborn"
   ]
  },
  {
   "cell_type": "code",
   "execution_count": 2,
   "id": "6515064f",
   "metadata": {},
   "outputs": [
    {
     "name": "stderr",
     "output_type": "stream",
     "text": [
      "Using `tqdm.autonotebook.tqdm` in notebook mode. Use `tqdm.tqdm` instead to force console mode (e.g. in jupyter console)\n"
     ]
    }
   ],
   "source": [
    "import pandas as pd\n",
    "import matplotlib.pyplot as plt\n",
    "import numpy as np\n",
    "from sklearn.ensemble import RandomForestRegressor\n",
    "from sklearn.metrics import mean_squared_error, mean_absolute_error, r2_score\n",
    "from sklearn.model_selection import train_test_split\n",
    "import shap\n",
    "import seaborn as sns\n",
    "import plotly.express as px\n",
    "from sklearn.base import BaseEstimator, TransformerMixin\n",
    "from sklearn.preprocessing import FunctionTransformer\n",
    "from sklearn.pipeline import Pipeline\n",
    "import calendar\n",
    "import requests\n",
    "from sklearn.compose import ColumnTransformer"
   ]
  },
  {
   "cell_type": "code",
   "execution_count": 3,
   "id": "363740ab",
   "metadata": {
    "scrolled": true
   },
   "outputs": [],
   "source": [
    "def read_file(file_path, year_from=1980):\n",
    "    # Define the number of rows to skip\n",
    "    num_rows_to_skip = 6\n",
    "    # Read the Excel file, skipping the specified number of rows\n",
    "    df = pd.read_excel(file_path, skiprows=num_rows_to_skip)\n",
    "    \n",
    "    df_temp = df[df[\"Disaster Type\"]==\"Extreme temperature \"]\n",
    "    df_heat = df_temp[df_temp['Disaster Subtype']=='Heat wave']\n",
    "    \n",
    "    df_heat_recent = df_heat[df_heat['Year']>=year_from]\n",
    "    \n",
    "    print(\"there are \" + str(df_heat_recent.shape[0]) + \" heatwave events\")\n",
    "    return df_heat_recent"
   ]
  },
  {
   "cell_type": "code",
   "execution_count": 4,
   "id": "c53f7f93",
   "metadata": {
    "scrolled": true
   },
   "outputs": [
    {
     "ename": "ImportError",
     "evalue": "Missing optional dependency 'openpyxl'.  Use pip or conda to install openpyxl.",
     "output_type": "error",
     "traceback": [
      "\u001b[0;31m---------------------------------------------------------------------------\u001b[0m",
      "\u001b[0;31mModuleNotFoundError\u001b[0m                       Traceback (most recent call last)",
      "File \u001b[0;32m~/Desktop/mda_kul/venv/lib/python3.9/site-packages/pandas/compat/_optional.py:142\u001b[0m, in \u001b[0;36mimport_optional_dependency\u001b[0;34m(name, extra, errors, min_version)\u001b[0m\n\u001b[1;32m    141\u001b[0m \u001b[38;5;28;01mtry\u001b[39;00m:\n\u001b[0;32m--> 142\u001b[0m     module \u001b[38;5;241m=\u001b[39m \u001b[43mimportlib\u001b[49m\u001b[38;5;241;43m.\u001b[39;49m\u001b[43mimport_module\u001b[49m\u001b[43m(\u001b[49m\u001b[43mname\u001b[49m\u001b[43m)\u001b[49m\n\u001b[1;32m    143\u001b[0m \u001b[38;5;28;01mexcept\u001b[39;00m \u001b[38;5;167;01mImportError\u001b[39;00m:\n",
      "File \u001b[0;32m~/opt/anaconda3/lib/python3.9/importlib/__init__.py:127\u001b[0m, in \u001b[0;36mimport_module\u001b[0;34m(name, package)\u001b[0m\n\u001b[1;32m    126\u001b[0m         level \u001b[38;5;241m+\u001b[39m\u001b[38;5;241m=\u001b[39m \u001b[38;5;241m1\u001b[39m\n\u001b[0;32m--> 127\u001b[0m \u001b[38;5;28;01mreturn\u001b[39;00m \u001b[43m_bootstrap\u001b[49m\u001b[38;5;241;43m.\u001b[39;49m\u001b[43m_gcd_import\u001b[49m\u001b[43m(\u001b[49m\u001b[43mname\u001b[49m\u001b[43m[\u001b[49m\u001b[43mlevel\u001b[49m\u001b[43m:\u001b[49m\u001b[43m]\u001b[49m\u001b[43m,\u001b[49m\u001b[43m \u001b[49m\u001b[43mpackage\u001b[49m\u001b[43m,\u001b[49m\u001b[43m \u001b[49m\u001b[43mlevel\u001b[49m\u001b[43m)\u001b[49m\n",
      "File \u001b[0;32m<frozen importlib._bootstrap>:1030\u001b[0m, in \u001b[0;36m_gcd_import\u001b[0;34m(name, package, level)\u001b[0m\n",
      "File \u001b[0;32m<frozen importlib._bootstrap>:1007\u001b[0m, in \u001b[0;36m_find_and_load\u001b[0;34m(name, import_)\u001b[0m\n",
      "File \u001b[0;32m<frozen importlib._bootstrap>:984\u001b[0m, in \u001b[0;36m_find_and_load_unlocked\u001b[0;34m(name, import_)\u001b[0m\n",
      "\u001b[0;31mModuleNotFoundError\u001b[0m: No module named 'openpyxl'",
      "\nDuring handling of the above exception, another exception occurred:\n",
      "\u001b[0;31mImportError\u001b[0m                               Traceback (most recent call last)",
      "Cell \u001b[0;32mIn[4], line 3\u001b[0m\n\u001b[1;32m      1\u001b[0m directory \u001b[38;5;241m=\u001b[39m \u001b[38;5;124m'\u001b[39m\u001b[38;5;124m../data/raw/\u001b[39m\u001b[38;5;124m'\u001b[39m\n\u001b[1;32m      2\u001b[0m \u001b[38;5;66;03m# the earliest data available is from 1985\u001b[39;00m\n\u001b[0;32m----> 3\u001b[0m df_heat \u001b[38;5;241m=\u001b[39m \u001b[43mread_file\u001b[49m\u001b[43m(\u001b[49m\u001b[43mdirectory\u001b[49m\u001b[43m \u001b[49m\u001b[38;5;241;43m+\u001b[39;49m\u001b[43m \u001b[49m\u001b[38;5;124;43m'\u001b[39;49m\u001b[38;5;124;43memdat_public_2023_08_22_query_uid-hU230X.xlsx\u001b[39;49m\u001b[38;5;124;43m'\u001b[39;49m\u001b[43m)\u001b[49m\n\u001b[1;32m      5\u001b[0m df_heat\u001b[38;5;241m.\u001b[39mhead()\n",
      "Cell \u001b[0;32mIn[3], line 5\u001b[0m, in \u001b[0;36mread_file\u001b[0;34m(file_path, year_from)\u001b[0m\n\u001b[1;32m      3\u001b[0m num_rows_to_skip \u001b[38;5;241m=\u001b[39m \u001b[38;5;241m6\u001b[39m\n\u001b[1;32m      4\u001b[0m \u001b[38;5;66;03m# Read the Excel file, skipping the specified number of rows\u001b[39;00m\n\u001b[0;32m----> 5\u001b[0m df \u001b[38;5;241m=\u001b[39m \u001b[43mpd\u001b[49m\u001b[38;5;241;43m.\u001b[39;49m\u001b[43mread_excel\u001b[49m\u001b[43m(\u001b[49m\u001b[43mfile_path\u001b[49m\u001b[43m,\u001b[49m\u001b[43m \u001b[49m\u001b[43mskiprows\u001b[49m\u001b[38;5;241;43m=\u001b[39;49m\u001b[43mnum_rows_to_skip\u001b[49m\u001b[43m)\u001b[49m\n\u001b[1;32m      7\u001b[0m df_temp \u001b[38;5;241m=\u001b[39m df[df[\u001b[38;5;124m\"\u001b[39m\u001b[38;5;124mDisaster Type\u001b[39m\u001b[38;5;124m\"\u001b[39m]\u001b[38;5;241m==\u001b[39m\u001b[38;5;124m\"\u001b[39m\u001b[38;5;124mExtreme temperature \u001b[39m\u001b[38;5;124m\"\u001b[39m]\n\u001b[1;32m      8\u001b[0m df_heat \u001b[38;5;241m=\u001b[39m df_temp[df_temp[\u001b[38;5;124m'\u001b[39m\u001b[38;5;124mDisaster Subtype\u001b[39m\u001b[38;5;124m'\u001b[39m]\u001b[38;5;241m==\u001b[39m\u001b[38;5;124m'\u001b[39m\u001b[38;5;124mHeat wave\u001b[39m\u001b[38;5;124m'\u001b[39m]\n",
      "File \u001b[0;32m~/Desktop/mda_kul/venv/lib/python3.9/site-packages/pandas/io/excel/_base.py:478\u001b[0m, in \u001b[0;36mread_excel\u001b[0;34m(io, sheet_name, header, names, index_col, usecols, dtype, engine, converters, true_values, false_values, skiprows, nrows, na_values, keep_default_na, na_filter, verbose, parse_dates, date_parser, date_format, thousands, decimal, comment, skipfooter, storage_options, dtype_backend)\u001b[0m\n\u001b[1;32m    476\u001b[0m \u001b[38;5;28;01mif\u001b[39;00m \u001b[38;5;129;01mnot\u001b[39;00m \u001b[38;5;28misinstance\u001b[39m(io, ExcelFile):\n\u001b[1;32m    477\u001b[0m     should_close \u001b[38;5;241m=\u001b[39m \u001b[38;5;28;01mTrue\u001b[39;00m\n\u001b[0;32m--> 478\u001b[0m     io \u001b[38;5;241m=\u001b[39m \u001b[43mExcelFile\u001b[49m\u001b[43m(\u001b[49m\u001b[43mio\u001b[49m\u001b[43m,\u001b[49m\u001b[43m \u001b[49m\u001b[43mstorage_options\u001b[49m\u001b[38;5;241;43m=\u001b[39;49m\u001b[43mstorage_options\u001b[49m\u001b[43m,\u001b[49m\u001b[43m \u001b[49m\u001b[43mengine\u001b[49m\u001b[38;5;241;43m=\u001b[39;49m\u001b[43mengine\u001b[49m\u001b[43m)\u001b[49m\n\u001b[1;32m    479\u001b[0m \u001b[38;5;28;01melif\u001b[39;00m engine \u001b[38;5;129;01mand\u001b[39;00m engine \u001b[38;5;241m!=\u001b[39m io\u001b[38;5;241m.\u001b[39mengine:\n\u001b[1;32m    480\u001b[0m     \u001b[38;5;28;01mraise\u001b[39;00m \u001b[38;5;167;01mValueError\u001b[39;00m(\n\u001b[1;32m    481\u001b[0m         \u001b[38;5;124m\"\u001b[39m\u001b[38;5;124mEngine should not be specified when passing \u001b[39m\u001b[38;5;124m\"\u001b[39m\n\u001b[1;32m    482\u001b[0m         \u001b[38;5;124m\"\u001b[39m\u001b[38;5;124man ExcelFile - ExcelFile already has the engine set\u001b[39m\u001b[38;5;124m\"\u001b[39m\n\u001b[1;32m    483\u001b[0m     )\n",
      "File \u001b[0;32m~/Desktop/mda_kul/venv/lib/python3.9/site-packages/pandas/io/excel/_base.py:1513\u001b[0m, in \u001b[0;36mExcelFile.__init__\u001b[0;34m(self, path_or_buffer, engine, storage_options)\u001b[0m\n\u001b[1;32m   1510\u001b[0m \u001b[38;5;28mself\u001b[39m\u001b[38;5;241m.\u001b[39mengine \u001b[38;5;241m=\u001b[39m engine\n\u001b[1;32m   1511\u001b[0m \u001b[38;5;28mself\u001b[39m\u001b[38;5;241m.\u001b[39mstorage_options \u001b[38;5;241m=\u001b[39m storage_options\n\u001b[0;32m-> 1513\u001b[0m \u001b[38;5;28mself\u001b[39m\u001b[38;5;241m.\u001b[39m_reader \u001b[38;5;241m=\u001b[39m \u001b[38;5;28;43mself\u001b[39;49m\u001b[38;5;241;43m.\u001b[39;49m\u001b[43m_engines\u001b[49m\u001b[43m[\u001b[49m\u001b[43mengine\u001b[49m\u001b[43m]\u001b[49m\u001b[43m(\u001b[49m\u001b[38;5;28;43mself\u001b[39;49m\u001b[38;5;241;43m.\u001b[39;49m\u001b[43m_io\u001b[49m\u001b[43m,\u001b[49m\u001b[43m \u001b[49m\u001b[43mstorage_options\u001b[49m\u001b[38;5;241;43m=\u001b[39;49m\u001b[43mstorage_options\u001b[49m\u001b[43m)\u001b[49m\n",
      "File \u001b[0;32m~/Desktop/mda_kul/venv/lib/python3.9/site-packages/pandas/io/excel/_openpyxl.py:548\u001b[0m, in \u001b[0;36mOpenpyxlReader.__init__\u001b[0;34m(self, filepath_or_buffer, storage_options)\u001b[0m\n\u001b[1;32m    533\u001b[0m \u001b[38;5;129m@doc\u001b[39m(storage_options\u001b[38;5;241m=\u001b[39m_shared_docs[\u001b[38;5;124m\"\u001b[39m\u001b[38;5;124mstorage_options\u001b[39m\u001b[38;5;124m\"\u001b[39m])\n\u001b[1;32m    534\u001b[0m \u001b[38;5;28;01mdef\u001b[39;00m \u001b[38;5;21m__init__\u001b[39m(\n\u001b[1;32m    535\u001b[0m     \u001b[38;5;28mself\u001b[39m,\n\u001b[1;32m    536\u001b[0m     filepath_or_buffer: FilePath \u001b[38;5;241m|\u001b[39m ReadBuffer[\u001b[38;5;28mbytes\u001b[39m],\n\u001b[1;32m    537\u001b[0m     storage_options: StorageOptions \u001b[38;5;241m=\u001b[39m \u001b[38;5;28;01mNone\u001b[39;00m,\n\u001b[1;32m    538\u001b[0m ) \u001b[38;5;241m-\u001b[39m\u001b[38;5;241m>\u001b[39m \u001b[38;5;28;01mNone\u001b[39;00m:\n\u001b[1;32m    539\u001b[0m \u001b[38;5;250m    \u001b[39m\u001b[38;5;124;03m\"\"\"\u001b[39;00m\n\u001b[1;32m    540\u001b[0m \u001b[38;5;124;03m    Reader using openpyxl engine.\u001b[39;00m\n\u001b[1;32m    541\u001b[0m \n\u001b[0;32m   (...)\u001b[0m\n\u001b[1;32m    546\u001b[0m \u001b[38;5;124;03m    {storage_options}\u001b[39;00m\n\u001b[1;32m    547\u001b[0m \u001b[38;5;124;03m    \"\"\"\u001b[39;00m\n\u001b[0;32m--> 548\u001b[0m     \u001b[43mimport_optional_dependency\u001b[49m\u001b[43m(\u001b[49m\u001b[38;5;124;43m\"\u001b[39;49m\u001b[38;5;124;43mopenpyxl\u001b[39;49m\u001b[38;5;124;43m\"\u001b[39;49m\u001b[43m)\u001b[49m\n\u001b[1;32m    549\u001b[0m     \u001b[38;5;28msuper\u001b[39m()\u001b[38;5;241m.\u001b[39m\u001b[38;5;21m__init__\u001b[39m(filepath_or_buffer, storage_options\u001b[38;5;241m=\u001b[39mstorage_options)\n",
      "File \u001b[0;32m~/Desktop/mda_kul/venv/lib/python3.9/site-packages/pandas/compat/_optional.py:145\u001b[0m, in \u001b[0;36mimport_optional_dependency\u001b[0;34m(name, extra, errors, min_version)\u001b[0m\n\u001b[1;32m    143\u001b[0m \u001b[38;5;28;01mexcept\u001b[39;00m \u001b[38;5;167;01mImportError\u001b[39;00m:\n\u001b[1;32m    144\u001b[0m     \u001b[38;5;28;01mif\u001b[39;00m errors \u001b[38;5;241m==\u001b[39m \u001b[38;5;124m\"\u001b[39m\u001b[38;5;124mraise\u001b[39m\u001b[38;5;124m\"\u001b[39m:\n\u001b[0;32m--> 145\u001b[0m         \u001b[38;5;28;01mraise\u001b[39;00m \u001b[38;5;167;01mImportError\u001b[39;00m(msg)\n\u001b[1;32m    146\u001b[0m     \u001b[38;5;28;01mreturn\u001b[39;00m \u001b[38;5;28;01mNone\u001b[39;00m\n\u001b[1;32m    148\u001b[0m \u001b[38;5;66;03m# Handle submodules: if we have submodule, grab parent module from sys.modules\u001b[39;00m\n",
      "\u001b[0;31mImportError\u001b[0m: Missing optional dependency 'openpyxl'.  Use pip or conda to install openpyxl."
     ]
    }
   ],
   "source": [
    "directory = '../data/raw/'\n",
    "# the earliest data available is from 1985\n",
    "df_heat = read_file(directory + 'emdat_public_2023_08_22_query_uid-hU230X.xlsx')\n",
    "\n",
    "df_heat.head()"
   ]
  },
  {
   "cell_type": "code",
   "execution_count": null,
   "id": "97f710fc",
   "metadata": {
    "scrolled": true
   },
   "outputs": [],
   "source": [
    "def countries_with_min_no_heatwaves(df_heat, threshold=3):\n",
    "    select = df_heat.groupby('Country').count().reset_index().sort_values(by='Year', ascending=False)\n",
    "    return len(select[select['Year']>=threshold])\n",
    "\n",
    "top = countries_with_min_no_heatwaves(df_heat, threshold=3)\n",
    "top"
   ]
  },
  {
   "cell_type": "code",
   "execution_count": null,
   "id": "cbbbc026",
   "metadata": {},
   "outputs": [],
   "source": [
    "def heatwave_top_countries(df, top=None):\n",
    "    df_sorted = df.groupby('Country').count().reset_index().sort_values(by='Year', ascending=False)\n",
    "    \n",
    "    if top == None:\n",
    "        return_top = len(df_sorted) \n",
    "    else:\n",
    "        return_top = top\n",
    "    plt.barh(df_sorted.Country, df_sorted.Year, color=['red' if country in df_sorted.iloc[:return_top]['Country'].values else 'blue' for country in df_sorted.Country])\n",
    "    plt.title('No. heatwaves per country')\n",
    "    \n",
    "    focus = list(df_sorted.iloc[:return_top]['Country'])\n",
    "    top_country_data = df[df['Country'].isin(focus)] \n",
    "    print(top_country_data.shape)\n",
    "    return top_country_data"
   ]
  },
  {
   "cell_type": "code",
   "execution_count": null,
   "id": "cc0b6080",
   "metadata": {
    "scrolled": true
   },
   "outputs": [],
   "source": [
    "top_countries = heatwave_top_countries(df_heat, top)"
   ]
  },
  {
   "cell_type": "code",
   "execution_count": null,
   "id": "ddbaaa1d",
   "metadata": {},
   "outputs": [],
   "source": [
    "def plot_deaths_overtime(df):\n",
    "    '''\n",
    "    Missing data are now considered and plotted as grey dots\n",
    "    '''\n",
    "    data = df.groupby('Year')[\"Total Deaths\"].sum().reset_index()\n",
    "\n",
    "    plt.figure(figsize=(10, 6))\n",
    "\n",
    "    plt.plot(data['Year'], data['Total Deaths'], marker='o', linestyle='-', color='blue', label='Total Deaths')\n",
    "    \n",
    "    # Identify missing years and plot grey dots for them\n",
    "    all_years = np.arange(data['Year'].min(), data['Year'].max() + 1)\n",
    "    missing_years = np.setdiff1d(all_years, data['Year'])\n",
    "    if len(missing_years) > 0:\n",
    "        missing_data = np.zeros(len(missing_years))\n",
    "        plt.scatter(missing_years, missing_data, color='grey', marker='o', label='Missing Years')\n",
    "\n",
    "    plt.xlabel('Year')\n",
    "    plt.ylabel('Total Deaths')\n",
    "    plt.title('Line Chart with Deaths')\n",
    "    \n",
    "    # Set x-axis ticks to include all years\n",
    "    plt.xticks(all_years)\n",
    "\n",
    "    plt.legend()\n",
    "    plt.show()"
   ]
  },
  {
   "cell_type": "code",
   "execution_count": null,
   "id": "72dd4782",
   "metadata": {
    "scrolled": false
   },
   "outputs": [],
   "source": [
    "plot_deaths_overtime(top_countries)\n",
    "\n",
    "# as we have better equipment to protect from disaster the number of death can be decreasing"
   ]
  },
  {
   "cell_type": "code",
   "execution_count": null,
   "id": "773149f0",
   "metadata": {},
   "outputs": [],
   "source": [
    "top_countries_valid_death = top_countries[~top_countries['Total Deaths'].isna()]#.shape"
   ]
  },
  {
   "cell_type": "code",
   "execution_count": null,
   "id": "1b86ca4e",
   "metadata": {},
   "outputs": [],
   "source": [
    "dfs = top_countries_valid_death.copy()\n",
    "#dfs.to_csv('../data/processed/country_focus.csv')"
   ]
  },
  {
   "cell_type": "code",
   "execution_count": null,
   "id": "ec0c150b",
   "metadata": {},
   "outputs": [],
   "source": [
    "heatmap_data = dfs.pivot_table(index='Country', columns='Year', values='Total Deaths', aggfunc='sum')\n",
    "\n",
    "# Create a heatmap using seaborn\n",
    "plt.figure(figsize=(10, 6))\n",
    "sns.heatmap(heatmap_data, cmap='YlGnBu', annot=False)\n",
    "plt.title('Number of Deaths by Country and Year')\n",
    "plt.xlabel('Year')\n",
    "plt.ylabel('Country')\n",
    "plt.show()"
   ]
  },
  {
   "cell_type": "code",
   "execution_count": null,
   "id": "6e2242c6",
   "metadata": {},
   "outputs": [],
   "source": [
    "def world_map(df, year):\n",
    "    # Erstellung der Karte\n",
    "    # Standorte = Alpha-3-Code für jedes Land\n",
    "    \n",
    "    df = df[df['Year']==year]\n",
    "    print(df.shape)\n",
    "    \n",
    "    fig = px.choropleth(df, locations='ISO', color='Total Deaths',\n",
    "                        color_continuous_scale='RdYlGn_r', template=\"plotly_dark\",\n",
    "                        title=\"Worldwide Death Counts in \" + str(year))\n",
    "    \n",
    "    # setzen der Mapbox\n",
    "    # Stelle den Zoom ein, wenn das Diagramm angezeigt wird\n",
    "    fig.update_layout(mapbox_style=\"carto-positron\",\n",
    "                      mapbox_zoom=10)\n",
    "    # Titel\n",
    "    fig.update_layout(title_x=0.5, margin={\"r\":0, \"t\":30,\"l\":0,\"b\":0})\n",
    "    \n",
    "    # Display the figure\n",
    "    fig.show()\n",
    "\n",
    "# Plot for particular year\n",
    "world_map(dfs, 2003)"
   ]
  },
  {
   "cell_type": "code",
   "execution_count": null,
   "id": "b2e12832",
   "metadata": {
    "scrolled": false
   },
   "outputs": [],
   "source": [
    "def europe_map(df, year):\n",
    "    fig = px.choropleth(df, locations='ISO', color='Total Deaths',\n",
    "                        color_continuous_scale='RdYlGn_r', template=\"plotly_dark\",\n",
    "                        title=\"European Death Counts in \" + str(year))\n",
    "\n",
    "    # Define the boundary coordinates for Europe\n",
    "    europe_boundary = {\n",
    "        \"type\": \"Feature\",\n",
    "        \"geometry\": {\n",
    "            \"type\": \"Polygon\",\n",
    "            \"coordinates\": [\n",
    "                [\n",
    "                    [-20, 35],\n",
    "                    [40, 35],\n",
    "                    [40, 70],\n",
    "                    [-20, 70],\n",
    "                    [-20, 35]\n",
    "                ]\n",
    "            ]\n",
    "        }\n",
    "    }\n",
    "\n",
    "    # Add boundary shape to the map\n",
    "    fig.add_shape(type=\"line\",\n",
    "                  x0=-20, y0=35, x1=40, y1=35,\n",
    "                  line=dict(color=\"blue\", width=2))\n",
    "\n",
    "    fig.update_geos(\n",
    "        fitbounds=\"locations\",\n",
    "        visible=False,  # Hide the world map\n",
    "        showcoastlines=False,  # Hide coastlines\n",
    "        projection_scale=1,  # Adjust scale if needed\n",
    "        center={\"lat\": 52.0, \"lon\": 10.0},  # Adjust center as needed\n",
    "        scope=\"europe\",  # Set the map scope to Europe\n",
    "    )\n",
    "\n",
    "    fig.update_layout(title_x=0.5, margin={\"r\": 0, \"t\": 30, \"l\": 0, \"b\": 0})\n",
    "\n",
    "    fig.show()\n",
    "\n",
    "# Call the function\n",
    "europe_map(dfs, 2003)"
   ]
  },
  {
   "cell_type": "code",
   "execution_count": null,
   "id": "af41ac7b",
   "metadata": {},
   "outputs": [],
   "source": []
  }
 ],
 "metadata": {
  "kernelspec": {
   "display_name": "venv",
   "language": "python",
   "name": "venv"
  },
  "language_info": {
   "codemirror_mode": {
    "name": "ipython",
    "version": 3
   },
   "file_extension": ".py",
   "mimetype": "text/x-python",
   "name": "python",
   "nbconvert_exporter": "python",
   "pygments_lexer": "ipython3",
   "version": "3.9.13"
  }
 },
 "nbformat": 4,
 "nbformat_minor": 5
}
